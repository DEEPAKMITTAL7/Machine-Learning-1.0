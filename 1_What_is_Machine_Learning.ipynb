{
 "cells": [
  {
   "cell_type": "markdown",
   "id": "dfa8c98a-971d-4ef9-b05d-6439e9a8b529",
   "metadata": {},
   "source": [
    "Machine Learning is the way by which we humans tries to make machine learn at what they are not good at, compared to humans.\n",
    "\n",
    "Exmaple -> Machine performes arithmatic calculations faster than humans but fails in driving.\n",
    "\n",
    "\n",
    "How to train ???\n",
    "\n",
    "Machine learning involves training algorithms on large datasets to identify patterns, correlations, and insights. The more data available, the better the algorithm can learn.\n",
    "\n"
   ]
  },
  {
   "cell_type": "code",
   "execution_count": null,
   "id": "60d7ef9b-5a1c-40bd-acd3-9dbacc59bcfe",
   "metadata": {},
   "outputs": [],
   "source": []
  }
 ],
 "metadata": {
  "kernelspec": {
   "display_name": "Python 3 (ipykernel)",
   "language": "python",
   "name": "python3"
  },
  "language_info": {
   "codemirror_mode": {
    "name": "ipython",
    "version": 3
   },
   "file_extension": ".py",
   "mimetype": "text/x-python",
   "name": "python",
   "nbconvert_exporter": "python",
   "pygments_lexer": "ipython3",
   "version": "3.8.2"
  }
 },
 "nbformat": 4,
 "nbformat_minor": 5
}
